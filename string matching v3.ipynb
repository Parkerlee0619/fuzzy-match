{
 "cells": [
  {
   "cell_type": "code",
   "execution_count": 1,
   "id": "66cec1f2",
   "metadata": {},
   "outputs": [],
   "source": [
    "import fuzzywuzzy\n",
    "from fuzzywuzzy import fuzz\n",
    "from fuzzywuzzy import process\n",
    "import pandas as pd\n",
    "import numpy as np\n",
    "import json\n",
    "import re\n",
    "import rapidfuzz"
   ]
  },
  {
   "cell_type": "code",
   "execution_count": 2,
   "id": "a0c63d87",
   "metadata": {},
   "outputs": [],
   "source": [
    "newoag=pd.read_json('oag_qa_20230512.json',lines=True)"
   ]
  },
  {
   "cell_type": "code",
   "execution_count": 3,
   "id": "35002371",
   "metadata": {},
   "outputs": [],
   "source": [
    "newoag_title=newoag[['title','answers']]"
   ]
  },
  {
   "cell_type": "code",
   "execution_count": 4,
   "id": "4e2e99cf",
   "metadata": {},
   "outputs": [],
   "source": [
    "newoag_title_dict=newoag_title.to_dict()"
   ]
  },
  {
   "cell_type": "code",
   "execution_count": 5,
   "id": "9a32f745",
   "metadata": {},
   "outputs": [],
   "source": [
    "import os\n",
    "import glob\n",
    "\n",
    "folder_path = \"/Users/judyzhu/Desktop/2023 summer/oagqa-topic-v2\"  # Replace with the actual folder path\n",
    "files = glob.glob(os.path.join(folder_path, \"*train*\"))\n",
    "merged_data=[]\n",
    "for file in files: \n",
    "    with open(file, 'r') as file:\n",
    "        json_data = json.load(file)\n",
    "        df=pd.DataFrame(json_data)\n",
    "        merged_data.append(df)\n",
    "merged_data\n",
    "joined_data=pd.concat(merged_data)"
   ]
  },
  {
   "cell_type": "code",
   "execution_count": 6,
   "id": "db31a83b",
   "metadata": {},
   "outputs": [],
   "source": [
    "tsvfiles = glob.glob(os.path.join(folder_path, \"*questions.tsv*\"))\n",
    "#data=pandas.read_csv('filename.tsv',sep='\\t')\n",
    "merged_data=[]\n",
    "for file in tsvfiles: \n",
    "    df=pd.read_csv(file,sep='\\t',names=['question','answer'])\n",
    "    merged_data.append(df)\n",
    "joined_data=pd.concat(merged_data)"
   ]
  },
  {
   "cell_type": "code",
   "execution_count": null,
   "id": "87530d86",
   "metadata": {},
   "outputs": [],
   "source": [
    "\n",
    "# def match_names(name, list_names, min_score=0):\n",
    "#     matching_names = []\n",
    "#     for x in list_names:\n",
    "#         score = fuzz.ratio(name, x)\n",
    "#         if score > 90:  # Check if the score is greater than 90\n",
    "#             matching_names.append((x, score))\n",
    "#     return matching_names"
   ]
  },
  {
   "cell_type": "code",
   "execution_count": 30,
   "id": "2f6a99bc",
   "metadata": {},
   "outputs": [
    {
     "data": {
      "text/html": [
       "<div>\n",
       "<style scoped>\n",
       "    .dataframe tbody tr th:only-of-type {\n",
       "        vertical-align: middle;\n",
       "    }\n",
       "\n",
       "    .dataframe tbody tr th {\n",
       "        vertical-align: top;\n",
       "    }\n",
       "\n",
       "    .dataframe thead th {\n",
       "        text-align: right;\n",
       "    }\n",
       "</style>\n",
       "<table border=\"1\" class=\"dataframe\">\n",
       "  <thead>\n",
       "    <tr style=\"text-align: right;\">\n",
       "      <th></th>\n",
       "      <th>_id</th>\n",
       "      <th>qid</th>\n",
       "      <th>score</th>\n",
       "      <th>url</th>\n",
       "      <th>title</th>\n",
       "      <th>body</th>\n",
       "      <th>tags</th>\n",
       "      <th>answers</th>\n",
       "    </tr>\n",
       "  </thead>\n",
       "  <tbody>\n",
       "    <tr>\n",
       "      <th>0</th>\n",
       "      <td>{'$oid': '645a083eeae567d13a86162e'}</td>\n",
       "      <td>4834</td>\n",
       "      <td>6</td>\n",
       "      <td>https://patents.stackexchange.com/questions/48...</td>\n",
       "      <td>Cloud Computing - Suggesting customers migrate...</td>\n",
       "      <td>&lt;p&gt;&lt;strong&gt;AN OVERBROAD PATENT ON suggesting c...</td>\n",
       "      <td>[prior-art-request, pre-grant, ibm, cloud-stor...</td>\n",
       "      <td>[{'aid': '4956', 'qid': '4834', 'is_accepted':...</td>\n",
       "    </tr>\n",
       "    <tr>\n",
       "      <th>1</th>\n",
       "      <td>{'$oid': '645a0840eae567d13a86162f'}</td>\n",
       "      <td>13157</td>\n",
       "      <td>6</td>\n",
       "      <td>https://patents.stackexchange.com/questions/13...</td>\n",
       "      <td>Requesting prior art on Google machine learnin...</td>\n",
       "      <td>&lt;p&gt;Google is attempting to patent well known c...</td>\n",
       "      <td>[prior-art-request, google, wo2014105866a1, us...</td>\n",
       "      <td>[{'aid': '13206', 'qid': '13157', 'is_accepted...</td>\n",
       "    </tr>\n",
       "    <tr>\n",
       "      <th>2</th>\n",
       "      <td>{'$oid': '645a0842eae567d13a861630'}</td>\n",
       "      <td>12028</td>\n",
       "      <td>4</td>\n",
       "      <td>https://patents.stackexchange.com/questions/12...</td>\n",
       "      <td>EDA software (IC design)</td>\n",
       "      <td>&lt;p&gt;Looking for prior art on this:&lt;/p&gt;\\n\\n&lt;p&gt;&lt;a...</td>\n",
       "      <td>[prior-art-request, pre-grant, us20130290834, ...</td>\n",
       "      <td>[{'aid': '21228', 'qid': '12028', 'is_accepted...</td>\n",
       "    </tr>\n",
       "    <tr>\n",
       "      <th>3</th>\n",
       "      <td>{'$oid': '645a0842c73f28c9898f4260'}</td>\n",
       "      <td>110634</td>\n",
       "      <td>84</td>\n",
       "      <td>https://softwareengineering.stackexchange.com/...</td>\n",
       "      <td>Why would it ever be possible for Java to be f...</td>\n",
       "      <td>&lt;p&gt;Sometimes Java outperforms C++ in benchmark...</td>\n",
       "      <td>[java, c++, performance]</td>\n",
       "      <td>[{'aid': '430340', 'qid': '110634', 'is_accept...</td>\n",
       "    </tr>\n",
       "    <tr>\n",
       "      <th>4</th>\n",
       "      <td>{'$oid': '645a0842c73f28c9898f4261'}</td>\n",
       "      <td>322714</td>\n",
       "      <td>76</td>\n",
       "      <td>https://softwareengineering.stackexchange.com/...</td>\n",
       "      <td>Are stacks the only reasonable way to structur...</td>\n",
       "      <td>&lt;p&gt;Most architectures I've seen rely on a call...</td>\n",
       "      <td>[computer-architecture]</td>\n",
       "      <td>[{'aid': '322732', 'qid': '322714', 'is_accept...</td>\n",
       "    </tr>\n",
       "  </tbody>\n",
       "</table>\n",
       "</div>"
      ],
      "text/plain": [
       "                                    _id     qid  score  \\\n",
       "0  {'$oid': '645a083eeae567d13a86162e'}    4834      6   \n",
       "1  {'$oid': '645a0840eae567d13a86162f'}   13157      6   \n",
       "2  {'$oid': '645a0842eae567d13a861630'}   12028      4   \n",
       "3  {'$oid': '645a0842c73f28c9898f4260'}  110634     84   \n",
       "4  {'$oid': '645a0842c73f28c9898f4261'}  322714     76   \n",
       "\n",
       "                                                 url  \\\n",
       "0  https://patents.stackexchange.com/questions/48...   \n",
       "1  https://patents.stackexchange.com/questions/13...   \n",
       "2  https://patents.stackexchange.com/questions/12...   \n",
       "3  https://softwareengineering.stackexchange.com/...   \n",
       "4  https://softwareengineering.stackexchange.com/...   \n",
       "\n",
       "                                               title  \\\n",
       "0  Cloud Computing - Suggesting customers migrate...   \n",
       "1  Requesting prior art on Google machine learnin...   \n",
       "2                           EDA software (IC design)   \n",
       "3  Why would it ever be possible for Java to be f...   \n",
       "4  Are stacks the only reasonable way to structur...   \n",
       "\n",
       "                                                body  \\\n",
       "0  <p><strong>AN OVERBROAD PATENT ON suggesting c...   \n",
       "1  <p>Google is attempting to patent well known c...   \n",
       "2  <p>Looking for prior art on this:</p>\\n\\n<p><a...   \n",
       "3  <p>Sometimes Java outperforms C++ in benchmark...   \n",
       "4  <p>Most architectures I've seen rely on a call...   \n",
       "\n",
       "                                                tags  \\\n",
       "0  [prior-art-request, pre-grant, ibm, cloud-stor...   \n",
       "1  [prior-art-request, google, wo2014105866a1, us...   \n",
       "2  [prior-art-request, pre-grant, us20130290834, ...   \n",
       "3                           [java, c++, performance]   \n",
       "4                            [computer-architecture]   \n",
       "\n",
       "                                             answers  \n",
       "0  [{'aid': '4956', 'qid': '4834', 'is_accepted':...  \n",
       "1  [{'aid': '13206', 'qid': '13157', 'is_accepted...  \n",
       "2  [{'aid': '21228', 'qid': '12028', 'is_accepted...  \n",
       "3  [{'aid': '430340', 'qid': '110634', 'is_accept...  \n",
       "4  [{'aid': '322732', 'qid': '322714', 'is_accept...  "
      ]
     },
     "execution_count": 30,
     "metadata": {},
     "output_type": "execute_result"
    }
   ],
   "source": [
    "newoag.head()"
   ]
  },
  {
   "cell_type": "code",
   "execution_count": 7,
   "id": "bec2a430",
   "metadata": {
    "scrolled": true
   },
   "outputs": [
    {
     "data": {
      "text/html": [
       "<div>\n",
       "<style scoped>\n",
       "    .dataframe tbody tr th:only-of-type {\n",
       "        vertical-align: middle;\n",
       "    }\n",
       "\n",
       "    .dataframe tbody tr th {\n",
       "        vertical-align: top;\n",
       "    }\n",
       "\n",
       "    .dataframe thead th {\n",
       "        text-align: right;\n",
       "    }\n",
       "</style>\n",
       "<table border=\"1\" class=\"dataframe\">\n",
       "  <thead>\n",
       "    <tr style=\"text-align: right;\">\n",
       "      <th></th>\n",
       "      <th>question</th>\n",
       "      <th>answer</th>\n",
       "    </tr>\n",
       "  </thead>\n",
       "  <tbody>\n",
       "    <tr>\n",
       "      <th>0</th>\n",
       "      <td>Example of a quantum-mechanical theory with no...</td>\n",
       "      <td>['toeplitz quantization of k\\\\\"ahler manifolds...</td>\n",
       "    </tr>\n",
       "    <tr>\n",
       "      <th>1</th>\n",
       "      <td>How can transverse waves on a string carry lon...</td>\n",
       "      <td>['The missing wave momentum mystery']</td>\n",
       "    </tr>\n",
       "    <tr>\n",
       "      <th>2</th>\n",
       "      <td>How do contact transformations differ from can...</td>\n",
       "      <td>['contact hamiltonian mechanics']</td>\n",
       "    </tr>\n",
       "    <tr>\n",
       "      <th>3</th>\n",
       "      <td>Reference for a type of &amp;quot;multi-hamiltonia...</td>\n",
       "      <td>['Classical and quantum Nambu mechanics']</td>\n",
       "    </tr>\n",
       "    <tr>\n",
       "      <th>4</th>\n",
       "      <td>Issues with Newton&amp;#39;s third law and Euler&amp;#...</td>\n",
       "      <td>[\"mansuripur's paradox\"]</td>\n",
       "    </tr>\n",
       "    <tr>\n",
       "      <th>...</th>\n",
       "      <td>...</td>\n",
       "      <td>...</td>\n",
       "    </tr>\n",
       "    <tr>\n",
       "      <th>77</th>\n",
       "      <td>What do blind people dream when they dream?</td>\n",
       "      <td>['Visual imagery without visual perception?']</td>\n",
       "    </tr>\n",
       "    <tr>\n",
       "      <th>78</th>\n",
       "      <td>What is the cognitive neural mechanism of atte...</td>\n",
       "      <td>['Attention Induced Gain Stabilization in Broa...</td>\n",
       "    </tr>\n",
       "    <tr>\n",
       "      <th>79</th>\n",
       "      <td>How to evaluate the study of \"only 39 of the 1...</td>\n",
       "      <td>['Statistics: &lt;i&gt;P&lt;/i&gt; values are just the tip...</td>\n",
       "    </tr>\n",
       "    <tr>\n",
       "      <th>80</th>\n",
       "      <td>What do you think of the findings published in...</td>\n",
       "      <td>['Human Hippocampal Neurogenesis Persists thro...</td>\n",
       "    </tr>\n",
       "    <tr>\n",
       "      <th>81</th>\n",
       "      <td>Why is it easy to feel gloomy and confused whe...</td>\n",
       "      <td>['Time to wake up: reactive countermeasures to...</td>\n",
       "    </tr>\n",
       "  </tbody>\n",
       "</table>\n",
       "<p>16208 rows × 2 columns</p>\n",
       "</div>"
      ],
      "text/plain": [
       "                                             question  \\\n",
       "0   Example of a quantum-mechanical theory with no...   \n",
       "1   How can transverse waves on a string carry lon...   \n",
       "2   How do contact transformations differ from can...   \n",
       "3   Reference for a type of &quot;multi-hamiltonia...   \n",
       "4   Issues with Newton&#39;s third law and Euler&#...   \n",
       "..                                                ...   \n",
       "77        What do blind people dream when they dream?   \n",
       "78  What is the cognitive neural mechanism of atte...   \n",
       "79  How to evaluate the study of \"only 39 of the 1...   \n",
       "80  What do you think of the findings published in...   \n",
       "81  Why is it easy to feel gloomy and confused whe...   \n",
       "\n",
       "                                               answer  \n",
       "0   ['toeplitz quantization of k\\\\\"ahler manifolds...  \n",
       "1               ['The missing wave momentum mystery']  \n",
       "2                   ['contact hamiltonian mechanics']  \n",
       "3           ['Classical and quantum Nambu mechanics']  \n",
       "4                            [\"mansuripur's paradox\"]  \n",
       "..                                                ...  \n",
       "77      ['Visual imagery without visual perception?']  \n",
       "78  ['Attention Induced Gain Stabilization in Broa...  \n",
       "79  ['Statistics: <i>P</i> values are just the tip...  \n",
       "80  ['Human Hippocampal Neurogenesis Persists thro...  \n",
       "81  ['Time to wake up: reactive countermeasures to...  \n",
       "\n",
       "[16208 rows x 2 columns]"
      ]
     },
     "execution_count": 7,
     "metadata": {},
     "output_type": "execute_result"
    }
   ],
   "source": [
    "# joined_data_name=joined_data[['question','answer']]\n",
    "# joined_data_name"
   ]
  },
  {
   "cell_type": "code",
   "execution_count": 17,
   "id": "86a1e4c3",
   "metadata": {
    "scrolled": false
   },
   "outputs": [
    {
     "data": {
      "text/html": [
       "<div>\n",
       "<style scoped>\n",
       "    .dataframe tbody tr th:only-of-type {\n",
       "        vertical-align: middle;\n",
       "    }\n",
       "\n",
       "    .dataframe tbody tr th {\n",
       "        vertical-align: top;\n",
       "    }\n",
       "\n",
       "    .dataframe thead th {\n",
       "        text-align: right;\n",
       "    }\n",
       "</style>\n",
       "<table border=\"1\" class=\"dataframe\">\n",
       "  <thead>\n",
       "    <tr style=\"text-align: right;\">\n",
       "      <th></th>\n",
       "      <th>_id</th>\n",
       "      <th>qid</th>\n",
       "      <th>score</th>\n",
       "      <th>url</th>\n",
       "      <th>body</th>\n",
       "      <th>tags</th>\n",
       "      <th>answers</th>\n",
       "    </tr>\n",
       "    <tr>\n",
       "      <th>title</th>\n",
       "      <th></th>\n",
       "      <th></th>\n",
       "      <th></th>\n",
       "      <th></th>\n",
       "      <th></th>\n",
       "      <th></th>\n",
       "      <th></th>\n",
       "    </tr>\n",
       "  </thead>\n",
       "  <tbody>\n",
       "    <tr>\n",
       "      <th>Cloud Computing - Suggesting customers migrate to the cloud (IBM) - Patent Application - PRIOR ART REQUEST</th>\n",
       "      <td>{'$oid': '645a083eeae567d13a86162e'}</td>\n",
       "      <td>4834</td>\n",
       "      <td>6</td>\n",
       "      <td>https://patents.stackexchange.com/questions/48...</td>\n",
       "      <td>&lt;p&gt;&lt;strong&gt;AN OVERBROAD PATENT ON suggesting c...</td>\n",
       "      <td>[prior-art-request, pre-grant, ibm, cloud-stor...</td>\n",
       "      <td>[{'aid': '4956', 'qid': '4834', 'is_accepted':...</td>\n",
       "    </tr>\n",
       "    <tr>\n",
       "      <th>Requesting prior art on Google machine learning patent (US 2014/0180986)</th>\n",
       "      <td>{'$oid': '645a0840eae567d13a86162f'}</td>\n",
       "      <td>13157</td>\n",
       "      <td>6</td>\n",
       "      <td>https://patents.stackexchange.com/questions/13...</td>\n",
       "      <td>&lt;p&gt;Google is attempting to patent well known c...</td>\n",
       "      <td>[prior-art-request, google, wo2014105866a1, us...</td>\n",
       "      <td>[{'aid': '13206', 'qid': '13157', 'is_accepted...</td>\n",
       "    </tr>\n",
       "    <tr>\n",
       "      <th>EDA software (IC design)</th>\n",
       "      <td>{'$oid': '645a0842eae567d13a861630'}</td>\n",
       "      <td>12028</td>\n",
       "      <td>4</td>\n",
       "      <td>https://patents.stackexchange.com/questions/12...</td>\n",
       "      <td>&lt;p&gt;Looking for prior art on this:&lt;/p&gt;\\n\\n&lt;p&gt;&lt;a...</td>\n",
       "      <td>[prior-art-request, pre-grant, us20130290834, ...</td>\n",
       "      <td>[{'aid': '21228', 'qid': '12028', 'is_accepted...</td>\n",
       "    </tr>\n",
       "  </tbody>\n",
       "</table>\n",
       "</div>"
      ],
      "text/plain": [
       "                                                                                     _id  \\\n",
       "title                                                                                      \n",
       "Cloud Computing - Suggesting customers migrate ...  {'$oid': '645a083eeae567d13a86162e'}   \n",
       "Requesting prior art on Google machine learning...  {'$oid': '645a0840eae567d13a86162f'}   \n",
       "EDA software (IC design)                            {'$oid': '645a0842eae567d13a861630'}   \n",
       "\n",
       "                                                      qid  score  \\\n",
       "title                                                              \n",
       "Cloud Computing - Suggesting customers migrate ...   4834      6   \n",
       "Requesting prior art on Google machine learning...  13157      6   \n",
       "EDA software (IC design)                            12028      4   \n",
       "\n",
       "                                                                                                  url  \\\n",
       "title                                                                                                   \n",
       "Cloud Computing - Suggesting customers migrate ...  https://patents.stackexchange.com/questions/48...   \n",
       "Requesting prior art on Google machine learning...  https://patents.stackexchange.com/questions/13...   \n",
       "EDA software (IC design)                            https://patents.stackexchange.com/questions/12...   \n",
       "\n",
       "                                                                                                 body  \\\n",
       "title                                                                                                   \n",
       "Cloud Computing - Suggesting customers migrate ...  <p><strong>AN OVERBROAD PATENT ON suggesting c...   \n",
       "Requesting prior art on Google machine learning...  <p>Google is attempting to patent well known c...   \n",
       "EDA software (IC design)                            <p>Looking for prior art on this:</p>\\n\\n<p><a...   \n",
       "\n",
       "                                                                                                 tags  \\\n",
       "title                                                                                                   \n",
       "Cloud Computing - Suggesting customers migrate ...  [prior-art-request, pre-grant, ibm, cloud-stor...   \n",
       "Requesting prior art on Google machine learning...  [prior-art-request, google, wo2014105866a1, us...   \n",
       "EDA software (IC design)                            [prior-art-request, pre-grant, us20130290834, ...   \n",
       "\n",
       "                                                                                              answers  \n",
       "title                                                                                                  \n",
       "Cloud Computing - Suggesting customers migrate ...  [{'aid': '4956', 'qid': '4834', 'is_accepted':...  \n",
       "Requesting prior art on Google machine learning...  [{'aid': '13206', 'qid': '13157', 'is_accepted...  \n",
       "EDA software (IC design)                            [{'aid': '21228', 'qid': '12028', 'is_accepted...  "
      ]
     },
     "execution_count": 17,
     "metadata": {},
     "output_type": "execute_result"
    }
   ],
   "source": [
    "newoag_title=newoag.set_index('title')\n",
    "newoag_title.head(3)"
   ]
  },
  {
   "cell_type": "code",
   "execution_count": 18,
   "id": "c3652cba",
   "metadata": {},
   "outputs": [],
   "source": [
    "newoag_title['old']=False"
   ]
  },
  {
   "cell_type": "code",
   "execution_count": 27,
   "id": "2e6bf3f3",
   "metadata": {},
   "outputs": [
    {
     "data": {
      "text/plain": [
       "1    How can transverse waves on a string carry lon...\n",
       "1     Does training affect the tactile oblique effect?\n",
       "1    Is density functional theory an ab initio method?\n",
       "1                         Vacuum and repulsive gravity\n",
       "1             Clustering a noisy data or with outliers\n",
       "                           ...                        \n",
       "1    Relation between left and right coset represen...\n",
       "1    What is the largest possible mass for a stable...\n",
       "1               Dark matter and dark energy references\n",
       "1    Learning capacity: Deep Learning vs Traditiona...\n",
       "1    Do neurons have a special division of labor or...\n",
       "Name: question, Length: 87, dtype: object"
      ]
     },
     "execution_count": 27,
     "metadata": {},
     "output_type": "execute_result"
    }
   ],
   "source": [
    "# joined_data.loc[1,'question']"
   ]
  },
  {
   "cell_type": "code",
   "execution_count": 44,
   "id": "96a855ec",
   "metadata": {},
   "outputs": [],
   "source": [
    "#find only the one that matches\n",
    "def closest(title, old):\n",
    "    for i in range(len(old)):\n",
    "        old['score']=rapidfuzz.fuzz.ratio(title, old['question'].iloc[i])\n",
    "    return old['score'].max()\n",
    "        \n",
    "        "
   ]
  },
  {
   "cell_type": "code",
   "execution_count": 51,
   "id": "6e5eb8b8",
   "metadata": {},
   "outputs": [],
   "source": [
    "def find_non_matching_titles(new, old, min_score=90):\n",
    "    for i in range(len(new)):\n",
    "        title=new['title'].iloc[i]\n",
    "        #if rapidfuzz.fuzz.ratio(closest(title, old[['question']]))<min_score:\n",
    "        if closest(title, old)<min_score:\n",
    "            new['old'].iloc[i]=True\n",
    "    return new\n",
    "            \n"
   ]
  },
  {
   "cell_type": "code",
   "execution_count": 52,
   "id": "47c8d5e2",
   "metadata": {},
   "outputs": [
    {
     "data": {
      "text/plain": [
       "33.513513513513516"
      ]
     },
     "execution_count": 52,
     "metadata": {},
     "output_type": "execute_result"
    }
   ],
   "source": [
    "closest('Cloud Computing - Suggesting customers migrate to the cloud (IBM) - Patent Application - PRIOR ART REQUEST', joined_data)"
   ]
  },
  {
   "cell_type": "code",
   "execution_count": null,
   "id": "763d03cd",
   "metadata": {},
   "outputs": [
    {
     "name": "stderr",
     "output_type": "stream",
     "text": [
      "/Users/judyzhu/opt/anaconda3/lib/python3.9/site-packages/pandas/core/indexing.py:1732: SettingWithCopyWarning: \n",
      "A value is trying to be set on a copy of a slice from a DataFrame\n",
      "\n",
      "See the caveats in the documentation: https://pandas.pydata.org/pandas-docs/stable/user_guide/indexing.html#returning-a-view-versus-a-copy\n",
      "  self._setitem_single_block(indexer, value, name)\n"
     ]
    }
   ],
   "source": [
    "find_non_matching_titles(newoag, joined_data, min_score=90)"
   ]
  },
  {
   "cell_type": "code",
   "execution_count": 8,
   "id": "803fba77",
   "metadata": {},
   "outputs": [],
   "source": [
    "# joined_data_namedict=joined_data['question'].to_dict()"
   ]
  },
  {
   "cell_type": "code",
   "execution_count": 9,
   "id": "55752df8",
   "metadata": {},
   "outputs": [],
   "source": [
    "# oldquestion=list(joined_data['question'])\n",
    "# newquestion=list(newoag['title'])"
   ]
  },
  {
   "cell_type": "code",
   "execution_count": null,
   "id": "d6979d8a",
   "metadata": {},
   "outputs": [],
   "source": [
    "\n",
    "        \n",
    "        \n",
    "    "
   ]
  },
  {
   "cell_type": "code",
   "execution_count": null,
   "id": "042055a2",
   "metadata": {},
   "outputs": [],
   "source": [
    "# from fuzzywuzzy import fuzz, process\n",
    "# import pandas as pd\n",
    "\n",
    "# def find_non_matching_titles(titles, questions, min_score=90):\n",
    "#     non_matching_titles = []\n",
    "#     commonthreshold=0\n",
    "#     questions_words = get_unique_words(questions)\n",
    "#     for title in titles:\n",
    "#         matched = False\n",
    "#         title_words = set(title.lower().split())\n",
    "#         for question in questions:\n",
    "#             if len(title_words.intersection(questions_words))==0:\n",
    "#                 non_matching_titles.append(title)\n",
    "#             else: \n",
    "#                 score = rapidfuzz.fuzz.ratio(title, question)\n",
    "#                 if score > min_score:\n",
    "#                     matched = True\n",
    "#                     break\n",
    "#                 if not matched:\n",
    "#                     non_matching_titles.append(title)\n",
    "#     return non_matching_titles\n"
   ]
  }
 ],
 "metadata": {
  "kernelspec": {
   "display_name": "Python 3 (ipykernel)",
   "language": "python",
   "name": "python3"
  },
  "language_info": {
   "codemirror_mode": {
    "name": "ipython",
    "version": 3
   },
   "file_extension": ".py",
   "mimetype": "text/x-python",
   "name": "python",
   "nbconvert_exporter": "python",
   "pygments_lexer": "ipython3",
   "version": "3.9.7"
  }
 },
 "nbformat": 4,
 "nbformat_minor": 5
}
